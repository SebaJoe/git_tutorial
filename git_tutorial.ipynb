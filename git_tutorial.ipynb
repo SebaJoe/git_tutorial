{
 "cells": [
  {
   "cell_type": "markdown",
   "id": "1d2f95d4",
   "metadata": {
    "slideshow": {
     "slide_type": "slide"
    }
   },
   "source": [
    "## Configuring git"
   ]
  },
  {
   "cell_type": "markdown",
   "id": "29c6cf07",
   "metadata": {
    "slideshow": {
     "slide_type": "fragment"
    }
   },
   "source": [
    "You need to set a username and email in git to make commits. this doesn't have to be the same as your github username\n"
   ]
  },
  {
   "cell_type": "markdown",
   "id": "0849699a",
   "metadata": {
    "slideshow": {
     "slide_type": "fragment"
    }
   },
   "source": [
    "```\n",
    "> git config --global user.name \"Any Name\"\n",
    "> git config --global user.email \"<github-email>\"\n",
    "```"
   ]
  },
  {
   "cell_type": "markdown",
   "id": "f189a6cc",
   "metadata": {},
   "source": [
    "## Initializing a repo\n",
    "\n",
    "You can get a local repo by initializing one on github and cloning it, initializing one locally with `git init` (which then you can add a remote manually). You can clone someone else's repo directly in github, or you can fork it and clone your forked version. If you plan to make changes that you want to live upstream, forking is a best practice (you can't push to someone else's personal github repo)."
   ]
  },
  {
   "cell_type": "markdown",
   "id": "c2918c3c",
   "metadata": {},
   "source": [
    "1. fork the tutorial repo (https://github.com/gchronis/git_tutorial)\n",
    "2. clone it over ssh\n",
    "    ```\n",
    "    git clone git@github.com:gchronis/git_tutorial.git\n",
    "    ```"
   ]
  },
  {
   "cell_type": "markdown",
   "id": "a9493c4d",
   "metadata": {},
   "source": [
    "### Commits"
   ]
  },
  {
   "cell_type": "markdown",
   "id": "965c631a",
   "metadata": {},
   "source": [
    "Git operates not on whole files but on changes to the repository. The current directory state is arrived at by layering a series of changes over one another. Changes to the repository are called commits. "
   ]
  },
  {
   "cell_type": "markdown",
   "id": "00ab4485",
   "metadata": {
    "slideshow": {
     "slide_type": ""
    }
   },
   "source": [
    "Sometimes you only want to save a little bit of work at a time. Git has three structures that help you keep track of the most recent edits you've made, the edits you plan to add to the 'history' of the repo and the history that's already saved. "
   ]
  },
  {
   "cell_type": "markdown",
   "id": "974d1e52",
   "metadata": {},
   "source": [
    " <img src=\"img/staging_area.png\" alt=\"Image\">"
   ]
  },
  {
   "cell_type": "markdown",
   "id": "ed7b8df4",
   "metadata": {},
   "source": [
    "### Check status of the repo\n",
    "\n",
    "Right now our working directory is clean\n",
    "\n",
    "```\n",
    "> git status\n",
    "```"
   ]
  },
  {
   "cell_type": "markdown",
   "id": "073fa504",
   "metadata": {},
   "source": [
    "### Making Changes\n",
    "\n",
    "1. first make changes to the repo. We'll add a new file and do some work in it\n",
    "\n",
    "```\n",
    "> touch \"example.txt\"\n",
    "> echo \"some work\" > example.txt\n",
    "```"
   ]
  },
  {
   "cell_type": "markdown",
   "id": "29d28e84",
   "metadata": {},
   "source": []
  },
  {
   "cell_type": "markdown",
   "id": "e8e42060",
   "metadata": {},
   "source": [
    "### Commiting Changes\n",
    "\n",
    "We've changed the state of the working directory. Run the status command again. The changes in red show changes in your working directory, compared to the git repository. right now the file is untracked."
   ]
  },
  {
   "cell_type": "markdown",
   "id": "b6f0059a",
   "metadata": {},
   "source": [
    "### git add\n",
    "\n",
    "Stage the changes for commit. this command adds stuff to the **index** or **staging area**\n",
    "\n",
    "The star is a wildcard operator\n",
    "```\n",
    "git add *\n",
    "```"
   ]
  },
  {
   "cell_type": "markdown",
   "id": "9be1386d",
   "metadata": {},
   "source": [
    "### git commit\n",
    "\n",
    "When we have all the changes we want to add, we commit those changes to the repo. Specifically, we commit them to the branch we are on (in this case, master)\n",
    "```\n",
    "> git commit -m \"I did some work\"\n",
    "```\n",
    "You can also run the `git commit` command without the `-m` message flag, which will open the default git editor, where you can type a longer commit message.\n",
    "\n",
    "The `log` command shows you the history of commits on your current branch. Space bar to scroll, `q` to exit.\n",
    "```\n",
    "> git log\n",
    "```"
   ]
  },
  {
   "cell_type": "markdown",
   "id": "b9f02aac",
   "metadata": {},
   "source": [
    "Let's do some more work\n",
    "```\n",
    "> echo \"moar werk\" > example.txt\n",
    "> git add example.txt\n",
    "> git commit -m \"did more work\"\n",
    "```"
   ]
  },
  {
   "cell_type": "markdown",
   "id": "008d8e7e",
   "metadata": {},
   "source": [
    "Oh no! This overwrote the work we previously did. Luckily we can go back to the state the file was in before we started making more changes to our working directory\n",
    "```\n",
    "> git restore example.txt\n",
    "```"
   ]
  },
  {
   "cell_type": "code",
   "execution_count": null,
   "id": "999133c5",
   "metadata": {},
   "outputs": [],
   "source": [
    "We actually wanted to *add* work. We needed the concat operator, which is two angle brackets\n",
    "\n",
    "> echo \"moar werk\" >> example.txt"
   ]
  },
  {
   "cell_type": "markdown",
   "id": "ce087b42",
   "metadata": {},
   "source": [
    "Checking the status of the repo now, again we see git has noticed changes to the file. Now, since git is tracking this file, it can show us the difference or `diff` between the file in the working directory and the latest version of the file at the tip of the current branch.\n",
    "```\n",
    "> git diff\n",
    "```"
   ]
  },
  {
   "cell_type": "markdown",
   "id": "39950749",
   "metadata": {},
   "source": [
    "Let's commit these changes and push them upstream to our fork"
   ]
  },
  {
   "cell_type": "code",
   "execution_count": null,
   "id": "24b62fe5",
   "metadata": {},
   "outputs": [],
   "source": [
    "`HEAD` is a ref that points to the tip of the branch we are currently on\n",
    "\n",
    "> git commit -m \"more work is there now\"\n",
    "> git push origin HEAD"
   ]
  },
  {
   "cell_type": "markdown",
   "id": "faf4303b",
   "metadata": {},
   "source": [
    "Refresh your fork on github. You should see a button that says 'compare and pull request'. This allows you  to create a PR, which in this case is a request to me to pull the changes that you made into my repo. Let's try it"
   ]
  },
  {
   "cell_type": "markdown",
   "id": "cf0e060e",
   "metadata": {},
   "source": [
    "Everything looks good, we can merge, but there's a typo! We don't want to commmit this work at all. We have two options here.\n",
    "\n",
    "1. Make another commit that fixes the typo and push it. This will update the PR automatically\n",
    "2. Undo our last commit. This makes a cleaner history. Sometimes this is absolutely necessary like if you accidentally commit a secret key---you don't want that in the commit history.\n",
    "3. ammending commits: I love `git commit --amend` which allows you to add more staged changes to the most recent commit. I often do this if I forgot something small and important. \n",
    "\n",
    "Let's try option two: rewriting history"
   ]
  },
  {
   "cell_type": "markdown",
   "id": "bcd9f6ad",
   "metadata": {},
   "source": [
    "### git reset\n",
    "\n",
    "A soft reset will put the committed changes back into the index. `HEAD~1` is a ref that always points to the commit before HEAD---which is almost always the tip of the current branch)\n",
    "```\n",
    "> git reset --soft HEAD~1\n",
    "> git status\n",
    "```\n",
    "You should see your changes. First, fix the typo."
   ]
  },
  {
   "cell_type": "markdown",
   "id": "6b0dba5c",
   "metadata": {},
   "source": [
    "Now when you run `git status` you see the file twice, once in red and once in green. The index (green) contains the version of the file we just 'uncommitted'. The working directory (red) contains the typo fix. We have to re add the file to the index to stage the corrected version.\n",
    "```\n",
    "> git add example.txt\n",
    "> git commit -m \"did more work\"\n",
    "> git push origin HEAD\n",
    "```"
   ]
  },
  {
   "cell_type": "markdown",
   "id": "eef7ab8c",
   "metadata": {},
   "source": [
    "Uh oh! We've angered the beast. Git is upset because the history of the upstream repo is different from the history of our local repository. It can't just play or 'fast-forward' our local changes to master on top if the remote branch `git@github.com:gchronis/git_tutorial.git/origin/master`\n",
    "\n",
    "**QUESTION:** Why is this? How does git compare the history of two branches?"
   ]
  },
  {
   "cell_type": "markdown",
   "id": "db5940d5",
   "metadata": {},
   "source": [
    "Hint: The answer has to do with SHAs"
   ]
  },
  {
   "cell_type": "markdown",
   "id": "75bbff1f",
   "metadata": {},
   "source": [
    "### Force pushing\n",
    "\n",
    "We'll have to do a force push. This is a very dangerous tool! Use with caution. Only do this if you are 100 percent confident of exactly what will happen. I'm showing it to you because I trust you. But I also trust you will use safe workflows 100 percent of the time that will ensure you rarely if ever have to do this. "
   ]
  },
  {
   "cell_type": "markdown",
   "id": "eca5e475",
   "metadata": {},
   "source": [
    "```\n",
    "> git push --force origin HEAD\n",
    "```"
   ]
  },
  {
   "cell_type": "markdown",
   "id": "a757fd95",
   "metadata": {},
   "source": [
    "The branch should be updated in github and we can now make a happy, clean PR that shows our changes in a logical order that helps others to review our code. "
   ]
  },
  {
   "cell_type": "markdown",
   "id": "eec7c387",
   "metadata": {},
   "source": [
    "## BRANCHING WORKFLOWS\n",
    "\n",
    "Git is at its most valuable, powerful—and therefore most dangerous—when used to collaborate with others. It allows us to maintain a single history of a repository, even as multiple people work in it at the same time, potentially changing the same files. \n"
   ]
  },
  {
   "cell_type": "markdown",
   "id": "7a69d99d",
   "metadata": {},
   "source": [
    "\n",
    "Sometimes you are working with others, and everyone has their own upstream fork. Even in this case, somebody's repo is bound to be the source of truth. How does that person make changes to the repo without messing things up for everybody?\n",
    "\n",
    "Enter branching.\n",
    "\n",
    "In other scenarios, for instance if you have multiple copies of a repo on a local machine and a remote server, or if you are working with others in an org that has a single shared github repo for a project, all of the local copies will have the same upstream repo. In this case, branching is absolutely crucial. "
   ]
  },
  {
   "cell_type": "markdown",
   "id": "8c83030d",
   "metadata": {},
   "source": [
    "The commandments of collaboration in git (in order of importance)\n",
    "\n",
    "1. **NEVER force push to master** (`git push --force origin master`is forbidden)\n",
    "2. **NEVER commit to master** (double check with a `git branch` before you commit. are you on `master`?)\n",
    "3. **ONLY merge into master through fast forward** (i.e. `git merge --ff-only` flag)"
   ]
  },
  {
   "cell_type": "markdown",
   "id": "08c9ecc9",
   "metadata": {},
   "source": [
    "If you follow these three rules, you won't ever ever jeopardize the changes you have committed to the master branch. The last rule is hardest to follow, as a fast-forward merge can require you to do a `rebase` if you or other people have made changes to the branch you are merging into."
   ]
  },
  {
   "cell_type": "markdown",
   "id": "cd1b207b",
   "metadata": {
    "slideshow": {
     "slide_type": "slide"
    }
   },
   "source": [
    "If you have access to an external server (like the compling gpus) **and have already created SSH keys or have a process for pushing and pulling from github**, feel free to log on there to follow along. Tou can also use two different local repositories to simulate collaboration between two people---sometimes, when you work on the same project in two places, you get into git snafus with yourself. "
   ]
  },
  {
   "cell_type": "markdown",
   "id": "053c273e",
   "metadata": {},
   "source": [
    "## Checkout a new branch\n",
    "\n",
    "The checkout command switches your branch, or creates a new one with the `-b` flag"
   ]
  },
  {
   "cell_type": "markdown",
   "id": "f5d2a8f8",
   "metadata": {},
   "source": [
    "```\n",
    "> git checkout -b lots_of_work\n",
    "> git branch\n",
    "```"
   ]
  },
  {
   "cell_type": "markdown",
   "id": "b713a31d",
   "metadata": {},
   "source": [
    "Now that we are on the \n",
    "\n",
    "```\n",
    "> echo \"even more work\" >> example.txt\n",
    "> git add example.txt\n",
    "> git commit -m \"i've done so much work today\"\n",
    "```\n",
    "\n",
    "A `git log` will show the changes.  You can switch baack to the main branch and run a `git log` and the changes aren't there anymore! Now for the spicy part."
   ]
  },
  {
   "cell_type": "markdown",
   "id": "968335c0",
   "metadata": {},
   "source": [
    "### Clone a second copy of the repo\n",
    "\n",
    "Open a second tab in terminal\n",
    "\n",
    "> cd Desktop\n",
    "> git clone https://github.com/<your_username>/git_tutorial"
   ]
  },
  {
   "cell_type": "markdown",
   "id": "2631c0ad",
   "metadata": {},
   "source": [
    "You can see how easily we can run into problems if everybody did everything on master. Git would get hopelessly confused. Let's make another branch where we work on something else."
   ]
  },
  {
   "cell_type": "markdown",
   "id": "f5d94e6c",
   "metadata": {},
   "source": [
    "```\n",
    "> git checkout -b refactor\n",
    "> echo \"total rehaul\" > example.txt\n",
    "> git add example.txt\n",
    "> git commit -m \"i changed absolutely everything\"\n",
    "```"
   ]
  },
  {
   "cell_type": "markdown",
   "id": "765b3dec",
   "metadata": {},
   "source": [
    "# TL;DR: Ideal Workflow\n",
    "\n",
    "1. Always work off a fork of the repo if it isn't your own\n",
    "2. Never work on `master`. Always check out a new branch when it's time to start developing a new feature\n",
    "3. "
   ]
  },
  {
   "cell_type": "code",
   "execution_count": null,
   "id": "8e97aff9",
   "metadata": {},
   "outputs": [],
   "source": [
    "# Git + Jupyter"
   ]
  },
  {
   "cell_type": "code",
   "execution_count": null,
   "id": "214db741",
   "metadata": {},
   "outputs": [],
   "source": []
  },
  {
   "cell_type": "markdown",
   "id": "3ecbba6d",
   "metadata": {},
   "source": [
    "Creating a  `.gitignore` file can help with those pesky cache files and anything else you don't want committed like very large files or other people's data. Any files matching the patterns in the file will be ignored by git. My `.gitignore` often looks like this:\n",
    "\n",
    "```\n",
    "data/\n",
    "__pycache__/\n",
    ".ipynb_checkpoints/\n",
    ".RData\n",
    ".Rhistory\n",
    ".DS_Store\n",
    "```"
   ]
  },
  {
   "cell_type": "markdown",
   "id": "df106928",
   "metadata": {
    "slideshow": {
     "slide_type": "subslide"
    }
   },
   "source": [
    "## Appendix: Setting up git on remote server (not finished yet)\n",
    "\n",
    "2. Connect to the Cisco any connect VPN (link to gdoc)\n",
    "3. log on onto the server \n",
    "    ```\n",
    "    > ssh EID@compling.la.utexas.edu \n",
    "    ```\n",
    "4. configure git with your git username and github email\n",
    "    ```\n",
    "    > git config --global user.name \"Any Name\"\n",
    "    > git config --global user.email githubemailaccount@company.com\n",
    "    ```"
   ]
  },
  {
   "cell_type": "markdown",
   "id": "8dd9bf98",
   "metadata": {},
   "source": [
    "### Generating an ssh key pair\n",
    "\n",
    "the private key lives on your machine and the public key lives on git\n",
    "https://docs.github.com/en/authentication/connecting-to-github-with-ssh/generating-a-new-ssh-key-and-adding-it-to-the-ssh-agent\n",
    "if you plan on working on a remote machine like the compling server, you should make a separate ssh key pair for that device. Below is the sequence of commands and prompts that makes the key "
   ]
  },
  {
   "cell_type": "markdown",
   "id": "15f407ae",
   "metadata": {},
   "source": [
    "```\n",
    "(base) [gsc685@phyl-ling-p01 ~]$ mkdir ~/.ssh\n",
    "(base) [gsc685@phyl-ling-p01 ~]$ cd .ssh/\n",
    "(base) [gsc685@phyl-ling-p01 .ssh]$ ssh-keygen -t ed25519 -C \"gigichronis@gmail.com\"\n",
    "Generating public/private ed25519 key pair.\n",
    "Enter file in which to save the key (/home/gsc685/.ssh/id_ed25519):\n",
    "Enter passphrase (empty for no passphrase):\n",
    "Enter same passphrase again:\n",
    "Your identification has been saved in /home/gsc685/.ssh/id_ed25519.\n",
    "Your public key has been saved in /home/gsc685/.ssh/id_ed25519.pub.\n",
    "The key fingerprint is:\n",
    "SHA256:4CwyZq4roMJzSSjiAjklwcYPdJo+KSpxHsJPRWg8Yk0 gigichronis@gmail.com\n",
    "The key's randomart image is:\n",
    "+--[ED25519 256]--+\n",
    "|+.+E..           |\n",
    "|.B+*.            |\n",
    "|o+= ...          |\n",
    "|+ o..o .         |\n",
    "|+OO.. o S        |\n",
    "|XX+= .           |\n",
    "|@.+..            |\n",
    "|*= o             |\n",
    "|*.o              |\n",
    "+----[SHA256]-----+\n",
    "```\n"
   ]
  },
  {
   "cell_type": "markdown",
   "id": "3d621dd5",
   "metadata": {},
   "source": [
    "Restart the ssh agent and add the key to it\n",
    "\n",
    "```\n",
    "(base) [gsc685@phyl-ling-p01 .ssh]$ eval \"$(ssh-agent -s)\"\n",
    "Agent pid 652299\n",
    "(base) [gsc685@phyl-ling-p01 .ssh]$ ssh-add ~/.ssh/id_ed25519\n",
    "Enter passphrase for /home/gsc685/.ssh/id_ed25519:\n",
    "Identity added: /home/gsc685/.ssh/id_ed25519 (gigichronis@gmail.com)\n",
    "```"
   ]
  },
  {
   "cell_type": "markdown",
   "id": "60e4941d",
   "metadata": {},
   "source": [
    "Exercise - branching \n",
    "fork repository\n",
    "clone it to your local environment\n"
   ]
  },
  {
   "cell_type": "markdown",
   "id": "ad584396",
   "metadata": {},
   "source": [
    "CHEAT SHEET\n",
    "\n"
   ]
  },
  {
   "cell_type": "code",
   "execution_count": null,
   "id": "67fbc2e1",
   "metadata": {},
   "outputs": [],
   "source": [
    "LINKS\n",
    "\n",
    "important concepts (index, HEAD, etc.): https://www.tutorialspoint.com/git/git_basic_concepts.htm\n",
    "\n",
    "\n"
   ]
  }
 ],
 "metadata": {
  "celltoolbar": "Slideshow",
  "kernelspec": {
   "display_name": "Python 3 (ipykernel)",
   "language": "python",
   "name": "python3"
  },
  "language_info": {
   "codemirror_mode": {
    "name": "ipython",
    "version": 3
   },
   "file_extension": ".py",
   "mimetype": "text/x-python",
   "name": "python",
   "nbconvert_exporter": "python",
   "pygments_lexer": "ipython3",
   "version": "3.11.4"
  }
 },
 "nbformat": 4,
 "nbformat_minor": 5
}
